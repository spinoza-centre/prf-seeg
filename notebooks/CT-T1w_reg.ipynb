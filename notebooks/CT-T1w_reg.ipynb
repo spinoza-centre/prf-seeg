{
 "cells": [
  {
   "cell_type": "code",
   "execution_count": 1,
   "metadata": {},
   "outputs": [],
   "source": [
    "%load_ext autoreload\n",
    "%autoreload 2\n",
    "\n",
    "import os\n",
    "import seaborn as sns\n",
    "from prfseeg import *"
   ]
  },
  {
   "cell_type": "code",
   "execution_count": 2,
   "metadata": {},
   "outputs": [
    {
     "name": "stdout",
     "output_type": "stream",
     "text": [
      "Acquisition10kHz 1 for Patient \"sub-001\" at \"/Users/knapen/projects/prf-seeg/data/bids\", derivatives at /Users/knapen/projects/prf-seeg/data/derivatives on task pRF created.\n",
      "Acquisition10kHz 2 for Patient \"sub-001\" at \"/Users/knapen/projects/prf-seeg/data/bids\", derivatives at /Users/knapen/projects/prf-seeg/data/derivatives on task pRF created.\n",
      "Acquisition2kHz 3 for Patient \"sub-001\" at \"/Users/knapen/projects/prf-seeg/data/bids\", derivatives at /Users/knapen/projects/prf-seeg/data/derivatives on task pRF created.\n",
      "Acquisition2kHz 4 for Patient \"sub-001\" at \"/Users/knapen/projects/prf-seeg/data/bids\", derivatives at /Users/knapen/projects/prf-seeg/data/derivatives on task pRF created.\n",
      "Acquisition2kHz 5 for Patient \"sub-001\" at \"/Users/knapen/projects/prf-seeg/data/bids\", derivatives at /Users/knapen/projects/prf-seeg/data/derivatives on task pRF created.\n",
      "Acquisition2kHz 6 for Patient \"sub-001\" at \"/Users/knapen/projects/prf-seeg/data/bids\", derivatives at /Users/knapen/projects/prf-seeg/data/derivatives on task pRF created.\n"
     ]
    }
   ],
   "source": [
    "# laptop:\n",
    "base_dir = '/Users/knapen/projects/prf-seeg/data'\n",
    "# server:\n",
    "# base_dir = '/scratch/2021/prf-seeg/data'\n",
    "\n",
    "patient = Patient(subject='sub-001', \n",
    "                  raw_dir=os.path.join(base_dir, 'bids'), \n",
    "                  derivatives_dir=os.path.join(base_dir, 'derivatives'))\n",
    "patient.gather_acquisitions()                  "
   ]
  },
  {
   "cell_type": "code",
   "execution_count": 4,
   "metadata": {},
   "outputs": [
    {
     "name": "stdout",
     "output_type": "stream",
     "text": [
      "Computing registration...\n",
      "Using original zooms for translation ...\n",
      "Optimizing translation:\n",
      "    Optimizing level 2 [max iter: 10000]\n",
      "    Optimizing level 1 [max iter: 1000]\n",
      "    Optimizing level 0 [max iter: 100]\n",
      "    Translation:  518.9 mm\n",
      "    R²:             1.2%\n",
      "Optimizing rigid:\n",
      "    Optimizing level 2 [max iter: 10000]\n",
      "    Optimizing level 1 [max iter: 1000]\n",
      "    Optimizing level 0 [max iter: 100]\n",
      "    Translation:    0.0 mm\n",
      "    Rotation:      31.4°\n",
      "    R²:             4.9%\n",
      "Applying affine registration ...\n",
      "[done]\n",
      "Acquisition10kHz 1 for Patient \"sub-001\" at \"/Users/knapen/projects/prf-seeg/data/bids\", derivatives at /Users/knapen/projects/prf-seeg/data/derivatives on task pRF created.\n",
      "Acquisition10kHz 2 for Patient \"sub-001\" at \"/Users/knapen/projects/prf-seeg/data/bids\", derivatives at /Users/knapen/projects/prf-seeg/data/derivatives on task pRF created.\n",
      "Acquisition2kHz 3 for Patient \"sub-001\" at \"/Users/knapen/projects/prf-seeg/data/bids\", derivatives at /Users/knapen/projects/prf-seeg/data/derivatives on task pRF created.\n",
      "Acquisition2kHz 4 for Patient \"sub-001\" at \"/Users/knapen/projects/prf-seeg/data/bids\", derivatives at /Users/knapen/projects/prf-seeg/data/derivatives on task pRF created.\n",
      "Acquisition2kHz 5 for Patient \"sub-001\" at \"/Users/knapen/projects/prf-seeg/data/bids\", derivatives at /Users/knapen/projects/prf-seeg/data/derivatives on task pRF created.\n",
      "Acquisition2kHz 6 for Patient \"sub-001\" at \"/Users/knapen/projects/prf-seeg/data/bids\", derivatives at /Users/knapen/projects/prf-seeg/data/derivatives on task pRF created.\n",
      "Extracting EDF parameters from /Users/knapen/projects/prf-seeg/data/bids/sub-001/func/sub-001_run-03_task-pRF_acq-2kHz.edf...\n",
      "EDF file detected\n",
      "Setting channel info structure...\n",
      "Could not determine channel type of the following channels, they will be set as EEG:\n",
      "A'1, A'2, A'3, A'4, A'5, A'6, A'7, A'8, A'9, A'10, A'13, A'14, F'1, F'2, F'3, F'4, F'5, F'6, F'7, E, F'8, F'9, A'11, A'12, F'10, F'11, F'12, F'13, F'14, F'15, H'1, H'2, H'3, H'4, H'5, H'6, H'7, DC01, DC02, DC03, DC04, DC05, DC06, DC07, DC08, DC09, DC10, DC11, DC12, DC13, DC14, DC15, DC16, H'8, H'9, H'10, H'11, H'12, H'13, H'14, H'15, H'16, L'1, L'2, L'3, L'4, L'5, L'6, L'7, L'8, L'9, L'10, L'11, L'12, L'13, L'14, L'15, L'16, L'17, L'18, M'1, M'2, M'3, M'4, M'5, M'6, M'7, M'8, M'9, M'10, M'11, M'12, M'13, M'14, M'15, M'16, M'17, M'18, N'1, N'2, N'3, N'4, N'7, N'8, N'9, N'10, N'11, N'12, N'13, N'14, N'15, O'1, O'2, O'3, O'4, O'5, O'6, O'7, O'8, O'9, O'10, O'11, O'12, O'13, O'14, P'1, P'2, P'3, P'4, P'5, P'6, P'7, P'8, P'9, P'10, P'11, P'12, P'13, P'14, P'15, P'16, P'17, P'18, Q'1, Q'2, Q'3, Q'4, Q'5, Q'6, Q'7, Q'8, Q'9, Q'10, Q'11, Q'12, Q'13, Q'14, Q'15, Q'16, R'1, R'2, R'3, R'4, R'5, R'6, R'7, R'8, R'9, R'10, R'11, R'12, R'13, R'14, R'15, R'16, R'17, R'18, S'1, S'2, S'3, S'4, S'7, S'8, S'9, S'10, S'11, S'12, S'13, S'14, S'15, U'1, U'2, U'3, U'4, U'5, U'6, U'7, U'8, U'9, U'10, U'11, U'12, U'13, U'14, U'15, U'16, U'17, U'18, W'1, W'2, W'3, W'4, W'5, W'6, W'7, W'8, W'9, W'10, W'11, W'12, W'13, W'14, W'15, X'1, X'2, X'3, X'4, X'5, X'6, X'7, X'8, X'9, X'10, X'11, X'12, X'13, X'14, X'15, X'16, X'17, X'18, Y'1, Y'2, Y'3, Y'4, Y'5, Y'6, Y'7, Y'8, Y'9, Y'10, Y'11, Y'12, Y'13, Y'14, Y'15, Y'16, Y'17, Y'18, Z'1, Z'2, Z'3, Z'4, Z'5, Z'6, Z'7, Z'8, Z'9, Z'10, Z'11, Z'12, ECG1, ECG2\n",
      "Creating raw.info structure...\n"
     ]
    },
    {
     "ename": "ImageFileError",
     "evalue": "Filespec \"/Users/knapen/projects/prf-seeg/data/derivatives/prep/sub-001/loc/CT2T1w.nii.gz\" does not look right for class <class 'nibabel.spatialimages.SpatialImage'>",
     "output_type": "error",
     "traceback": [
      "\u001b[0;31m---------------------------------------------------------------------------\u001b[0m",
      "\u001b[0;31mTypesFilenamesError\u001b[0m                       Traceback (most recent call last)",
      "\u001b[0;32m~/software/anaconda3/envs/py39/lib/python3.9/site-packages/nibabel/filebasedimages.py\u001b[0m in \u001b[0;36mfilespec_to_file_map\u001b[0;34m(klass, filespec)\u001b[0m\n\u001b[1;32m    298\u001b[0m         \u001b[0;32mtry\u001b[0m\u001b[0;34m:\u001b[0m\u001b[0;34m\u001b[0m\u001b[0;34m\u001b[0m\u001b[0m\n\u001b[0;32m--> 299\u001b[0;31m             filenames = types_filenames(\n\u001b[0m\u001b[1;32m    300\u001b[0m                 \u001b[0mfilespec\u001b[0m\u001b[0;34m,\u001b[0m \u001b[0mklass\u001b[0m\u001b[0;34m.\u001b[0m\u001b[0mfiles_types\u001b[0m\u001b[0;34m,\u001b[0m\u001b[0;34m\u001b[0m\u001b[0;34m\u001b[0m\u001b[0m\n",
      "\u001b[0;32m~/software/anaconda3/envs/py39/lib/python3.9/site-packages/nibabel/filename_parser.py\u001b[0m in \u001b[0;36mtypes_filenames\u001b[0;34m(template_fname, types_exts, trailing_suffixes, enforce_extensions, match_case)\u001b[0m\n\u001b[1;32m    128\u001b[0m                 \u001b[0;31m# an extension, but the wrong one\u001b[0m\u001b[0;34m\u001b[0m\u001b[0;34m\u001b[0m\u001b[0m\n\u001b[0;32m--> 129\u001b[0;31m                 raise TypesFilenamesError(\n\u001b[0m\u001b[1;32m    130\u001b[0m                     \u001b[0;34mf'File extension \"{found_ext}\" was not in '\u001b[0m\u001b[0;34m\u001b[0m\u001b[0;34m\u001b[0m\u001b[0m\n",
      "\u001b[0;31mTypesFilenamesError\u001b[0m: File extension \".gz\" was not in expected list: [None]",
      "\nDuring handling of the above exception, another exception occurred:\n",
      "\u001b[0;31mImageFileError\u001b[0m                            Traceback (most recent call last)",
      "\u001b[0;32m/var/folders/sd/kggdbsc53wl2lptrqmw5wyk40000gn/T/ipykernel_10819/1161930784.py\u001b[0m in \u001b[0;36m<module>\u001b[0;34m\u001b[0m\n\u001b[0;32m----> 1\u001b[0;31m \u001b[0mpatient\u001b[0m\u001b[0;34m.\u001b[0m\u001b[0mfind_electrode_positions\u001b[0m\u001b[0;34m(\u001b[0m\u001b[0mwhich_run\u001b[0m\u001b[0;34m=\u001b[0m\u001b[0;36m2\u001b[0m\u001b[0;34m)\u001b[0m\u001b[0;34m\u001b[0m\u001b[0;34m\u001b[0m\u001b[0m\n\u001b[0m",
      "\u001b[0;32m~/projects/prf-seeg/prfseeg/patient.py\u001b[0m in \u001b[0;36mfind_electrode_positions\u001b[0;34m(self, which_run)\u001b[0m\n\u001b[1;32m    157\u001b[0m         \u001b[0mself\u001b[0m\u001b[0;34m.\u001b[0m\u001b[0msubj_trans\u001b[0m\u001b[0;34m.\u001b[0m\u001b[0msave\u001b[0m\u001b[0;34m(\u001b[0m\u001b[0mos\u001b[0m\u001b[0;34m.\u001b[0m\u001b[0mpath\u001b[0m\u001b[0;34m.\u001b[0m\u001b[0mjoin\u001b[0m\u001b[0;34m(\u001b[0m\u001b[0mself\u001b[0m\u001b[0;34m.\u001b[0m\u001b[0mlocalization_dir\u001b[0m\u001b[0;34m,\u001b[0m \u001b[0;34m'subj-trans.fif'\u001b[0m\u001b[0;34m)\u001b[0m\u001b[0;34m)\u001b[0m\u001b[0;34m\u001b[0m\u001b[0;34m\u001b[0m\u001b[0m\n\u001b[1;32m    158\u001b[0m         \u001b[0mnp\u001b[0m\u001b[0;34m.\u001b[0m\u001b[0msavetxt\u001b[0m\u001b[0;34m(\u001b[0m\u001b[0mos\u001b[0m\u001b[0;34m.\u001b[0m\u001b[0mpath\u001b[0m\u001b[0;34m.\u001b[0m\u001b[0mjoin\u001b[0m\u001b[0;34m(\u001b[0m\u001b[0mself\u001b[0m\u001b[0;34m.\u001b[0m\u001b[0mlocalization_dir\u001b[0m\u001b[0;34m,\u001b[0m \u001b[0;34m'reg_affine_CT2T1w.tsv'\u001b[0m\u001b[0;34m)\u001b[0m\u001b[0;34m,\u001b[0m \u001b[0mself\u001b[0m\u001b[0;34m.\u001b[0m\u001b[0mreg_affine\u001b[0m\u001b[0;34m,\u001b[0m \u001b[0mdelimiter\u001b[0m\u001b[0;34m=\u001b[0m\u001b[0;34m'\\t'\u001b[0m\u001b[0;34m)\u001b[0m\u001b[0;34m\u001b[0m\u001b[0;34m\u001b[0m\u001b[0m\n\u001b[0;32m--> 159\u001b[0;31m         \u001b[0mself\u001b[0m\u001b[0;34m.\u001b[0m\u001b[0mCT_aligned\u001b[0m\u001b[0;34m.\u001b[0m\u001b[0mto_filename\u001b[0m\u001b[0;34m(\u001b[0m\u001b[0mos\u001b[0m\u001b[0;34m.\u001b[0m\u001b[0mpath\u001b[0m\u001b[0;34m.\u001b[0m\u001b[0mjoin\u001b[0m\u001b[0;34m(\u001b[0m\u001b[0mself\u001b[0m\u001b[0;34m.\u001b[0m\u001b[0mlocalization_dir\u001b[0m\u001b[0;34m,\u001b[0m \u001b[0;34m'CT2T1w.nii.gz'\u001b[0m\u001b[0;34m)\u001b[0m\u001b[0;34m)\u001b[0m\u001b[0;34m\u001b[0m\u001b[0;34m\u001b[0m\u001b[0m\n\u001b[0m\u001b[1;32m    160\u001b[0m         \u001b[0;32mwith\u001b[0m \u001b[0mopen\u001b[0m\u001b[0;34m(\u001b[0m\u001b[0mos\u001b[0m\u001b[0;34m.\u001b[0m\u001b[0mpath\u001b[0m\u001b[0;34m.\u001b[0m\u001b[0mjoin\u001b[0m\u001b[0;34m(\u001b[0m\u001b[0mself\u001b[0m\u001b[0;34m.\u001b[0m\u001b[0mlocalization_dir\u001b[0m\u001b[0;34m,\u001b[0m \u001b[0;34m'subj_mni_fiducials.pkl'\u001b[0m\u001b[0;34m)\u001b[0m\u001b[0;34m,\u001b[0m \u001b[0;34m'w'\u001b[0m\u001b[0;34m)\u001b[0m \u001b[0;32mas\u001b[0m \u001b[0mf\u001b[0m\u001b[0;34m:\u001b[0m\u001b[0;34m\u001b[0m\u001b[0;34m\u001b[0m\u001b[0m\n\u001b[1;32m    161\u001b[0m             \u001b[0mpickle\u001b[0m\u001b[0;34m.\u001b[0m\u001b[0mdump\u001b[0m\u001b[0;34m(\u001b[0m\u001b[0mself\u001b[0m\u001b[0;34m.\u001b[0m\u001b[0msubj_mni_fiducials\u001b[0m\u001b[0;34m,\u001b[0m \u001b[0mf\u001b[0m\u001b[0;34m)\u001b[0m\u001b[0;34m\u001b[0m\u001b[0;34m\u001b[0m\u001b[0m\n",
      "\u001b[0;32m~/software/anaconda3/envs/py39/lib/python3.9/site-packages/nibabel/filebasedimages.py\u001b[0m in \u001b[0;36mto_filename\u001b[0;34m(self, filename)\u001b[0m\n\u001b[1;32m    330\u001b[0m         \u001b[0;32mNone\u001b[0m\u001b[0;34m\u001b[0m\u001b[0;34m\u001b[0m\u001b[0m\n\u001b[1;32m    331\u001b[0m         \"\"\"\n\u001b[0;32m--> 332\u001b[0;31m         \u001b[0mself\u001b[0m\u001b[0;34m.\u001b[0m\u001b[0mfile_map\u001b[0m \u001b[0;34m=\u001b[0m \u001b[0mself\u001b[0m\u001b[0;34m.\u001b[0m\u001b[0mfilespec_to_file_map\u001b[0m\u001b[0;34m(\u001b[0m\u001b[0mfilename\u001b[0m\u001b[0;34m)\u001b[0m\u001b[0;34m\u001b[0m\u001b[0;34m\u001b[0m\u001b[0m\n\u001b[0m\u001b[1;32m    333\u001b[0m         \u001b[0mself\u001b[0m\u001b[0;34m.\u001b[0m\u001b[0mto_file_map\u001b[0m\u001b[0;34m(\u001b[0m\u001b[0;34m)\u001b[0m\u001b[0;34m\u001b[0m\u001b[0;34m\u001b[0m\u001b[0m\n\u001b[1;32m    334\u001b[0m \u001b[0;34m\u001b[0m\u001b[0m\n",
      "\u001b[0;32m~/software/anaconda3/envs/py39/lib/python3.9/site-packages/nibabel/filebasedimages.py\u001b[0m in \u001b[0;36mfilespec_to_file_map\u001b[0;34m(klass, filespec)\u001b[0m\n\u001b[1;32m    301\u001b[0m                 trailing_suffixes=klass._compressed_suffixes)\n\u001b[1;32m    302\u001b[0m         \u001b[0;32mexcept\u001b[0m \u001b[0mTypesFilenamesError\u001b[0m\u001b[0;34m:\u001b[0m\u001b[0;34m\u001b[0m\u001b[0;34m\u001b[0m\u001b[0m\n\u001b[0;32m--> 303\u001b[0;31m             raise ImageFileError(\n\u001b[0m\u001b[1;32m    304\u001b[0m                 f'Filespec \"{filespec}\" does not look right for class {klass}')\n\u001b[1;32m    305\u001b[0m         \u001b[0mfile_map\u001b[0m \u001b[0;34m=\u001b[0m \u001b[0;34m{\u001b[0m\u001b[0;34m}\u001b[0m\u001b[0;34m\u001b[0m\u001b[0;34m\u001b[0m\u001b[0m\n",
      "\u001b[0;31mImageFileError\u001b[0m: Filespec \"/Users/knapen/projects/prf-seeg/data/derivatives/prep/sub-001/loc/CT2T1w.nii.gz\" does not look right for class <class 'nibabel.spatialimages.SpatialImage'>"
     ]
    }
   ],
   "source": [
    "patient.find_electrode_positions(which_run=2)"
   ]
  },
  {
   "cell_type": "code",
   "execution_count": 12,
   "metadata": {},
   "outputs": [
    {
     "name": "stderr",
     "output_type": "stream",
     "text": [
      "/var/folders/sd/kggdbsc53wl2lptrqmw5wyk40000gn/T/ipykernel_10819/3863844628.py:1: RuntimeWarning: `seghead` not found, skipping head plot, see :ref:`mne.bem.make_scalp_surfaces` to add the head\n",
      "  gui = mne.gui.locate_ieeg(patient.acquisitions[2].raw.info,\n"
     ]
    },
    {
     "name": "stdout",
     "output_type": "stream",
     "text": [
      "Using pyvistaqt 3d backend.\n",
      "\n"
     ]
    },
    {
     "name": "stderr",
     "output_type": "stream",
     "text": [
      "qt.qpa.window: <QNSWindow: 0x7feffa31a150; contentView=<QNSView: 0x7ff1350fd560; QCocoaWindow(0x7ff1350f81d0, window=QWidgetWindow(0x7ff135270cf0, name=\"QWidgetClassWindow\"))>> has active key-value observers (KVO)! These will stop working now that the window is recreated, and will result in exceptions when the observers are removed. Break in QCocoaWindow::recreateWindowIfNeeded to debug.\n",
      "qt.qpa.window: <QNSWindow: 0x7feff5633ed0; contentView=<QNSView: 0x7feff564c330; QCocoaWindow(0x7feff564cbd0, window=QWidgetWindow(0x7feff5640d60, name=\"QWidgetClassWindow\"))>> has active key-value observers (KVO)! These will stop working now that the window is recreated, and will result in exceptions when the observers are removed. Break in QCocoaWindow::recreateWindowIfNeeded to debug.\n"
     ]
    },
    {
     "name": "stdout",
     "output_type": "stream",
     "text": [
      "Clicked axis 2 at pos (162.55555555555554, 140.63797468354431)\n",
      "Clicked axis 1 at pos (142.71555555555554, 105.66666666666666)\n",
      "Clicked axis 0 at pos (169.08241912798874, 120.77777777777777)\n",
      "Clicked axis 1 at pos (138.87555555555554, 124.33333333333331)\n",
      "Clicked axis 1 at pos (136.31555555555553, 124.33333333333331)\n",
      "Clicked axis 1 at pos (138.23555555555555, 126.2222222222222)\n",
      "Clicked axis 2 at pos (172.0133333333333, 72.57301247096996)\n",
      "Clicked axis 0 at pos (64.57301247096996, 135.88888888888886)\n",
      "Clicked axis 2 at pos (158.79111111111106, 132.92612390367614)\n",
      "Clicked axis 2 at pos (173.90222222222218, 65.31396760845183)\n",
      "Clicked axis 2 at pos (158.7911111111111, 132.9261239036761)\n",
      "Clicked axis 1 at pos (167.47285024154587, 105.66666666666664)\n",
      "Clicked axis 2 at pos (127.47285024154588, 51.60629756503648)\n",
      "Clicked axis 2 at pos (171.91729468599027, 67.722071805268)\n",
      "Clicked axis 0 at pos (139.72207180526797, 107.44444444444441)\n",
      "Clicked axis 2 at pos (145.2506280193236, 143.241608708307)\n",
      "Clicked axis 0 at pos (61.463830930529284, 93.22222222222219)\n",
      "Clicked axis 0 at pos (58.79716426386261, 97.66666666666661)\n",
      "Clicked axis 2 at pos (141.69507246376804, 56.75953763578735)\n",
      "Clicked axis 2 at pos (146.13951690821247, 63.24289508875407)\n",
      "Clicked axis 1 at pos (148.14299516908204, 104.77777777777773)\n",
      "Clicked axis 2 at pos (182.8096618357487, 84.54535529135899)\n",
      "Clicked axis 2 at pos (165.0318840579709, 138.82031911190887)\n",
      "Clicked axis 1 at pos (178.6110144927535, 100.33333333333327)\n",
      "Clicked axis 1 at pos (189.96405797101437, 103.88888888888881)\n",
      "Clicked axis 2 at pos (154.40850241545883, 137.52364762131552)\n",
      "Clicked axis 1 at pos (168.87806763285013, 106.55555555555547)\n",
      "Clicked axis 2 at pos (155.5447342995168, 149.56416860539656)\n",
      "Clicked axis 2 at pos (150.21140096618348, 145.30367656487556)\n",
      "Clicked axis 2 at pos (167.10028985507236, 138.82031911190882)\n",
      "Clicked axis 2 at pos (154.65584541062793, 148.63797468354412)\n",
      "Clicked axis 0 at pos (137.08241912798854, 100.33333333333324)\n",
      "Clicked axis 1 at pos (166.8993236714975, 106.55555555555547)\n",
      "Clicked axis 2 at pos (149.1215458937197, 146.52959713088288)\n",
      "Clicked axis 0 at pos (179.41848601977176, 163.44444444444434)\n",
      "Clicked axis 0 at pos (161.640708241994, 118.11111111111101)\n",
      "Clicked axis 2 at pos (169.56599033816414, 108.106699558926)\n",
      "Clicked axis 0 at pos (96.55114400337044, 123.44444444444433)\n",
      "Clicked axis 1 at pos (117.69816425120764, 107.44444444444433)\n",
      "Clicked axis 2 at pos (153.25371980676317, 150.08515268643842)\n",
      "Clicked axis 0 at pos (110.97404157532733, 156.3333333333332)\n",
      "Clicked axis 1 at pos (193.99111111111097, 137.66666666666654)\n",
      "Clicked axis 2 at pos (140.65777777777765, 168.58330351454583)\n"
     ]
    }
   ],
   "source": [
    "gui = mne.gui.locate_ieeg(patient.acquisitions[2].raw.info,\n",
    "                                  patient.subj_trans,\n",
    "                                  patient.CT_aligned,\n",
    "                                  subject=patient.subject,\n",
    "                                  subjects_dir=patient.subjects_dir)"
   ]
  },
  {
   "cell_type": "code",
   "execution_count": 11,
   "metadata": {},
   "outputs": [
    {
     "name": "stdout",
     "output_type": "stream",
     "text": [
      "\u001b[0;31mSignature:\u001b[0m \u001b[0mpatient\u001b[0m\u001b[0;34m.\u001b[0m\u001b[0mCT_aligned\u001b[0m\u001b[0;34m.\u001b[0m\u001b[0mto_file_map\u001b[0m\u001b[0;34m(\u001b[0m\u001b[0mfile_map\u001b[0m\u001b[0;34m=\u001b[0m\u001b[0;32mNone\u001b[0m\u001b[0;34m)\u001b[0m\u001b[0;34m\u001b[0m\u001b[0;34m\u001b[0m\u001b[0m\n",
      "\u001b[0;31mDocstring:\u001b[0m <no docstring>\n",
      "\u001b[0;31mFile:\u001b[0m      ~/software/anaconda3/envs/py39/lib/python3.9/site-packages/nibabel/filebasedimages.py\n",
      "\u001b[0;31mType:\u001b[0m      method\n"
     ]
    }
   ],
   "source": [
    "patient.CT_aligned.to_file_map?"
   ]
  },
  {
   "cell_type": "code",
   "execution_count": 13,
   "metadata": {},
   "outputs": [
    {
     "data": {
      "text/plain": [
       "<Transform | head->MRI (surface RAS)>\n",
       "[[ 0.99442248 -0.09683619 -0.04179336  0.00826246]\n",
       " [ 0.09032022  0.98649145 -0.13666336 -0.00354597]\n",
       " [ 0.05446275  0.13212633  0.98973554 -0.04298648]\n",
       " [ 0.          0.          0.          1.        ]]"
      ]
     },
     "execution_count": 13,
     "metadata": {},
     "output_type": "execute_result"
    }
   ],
   "source": [
    "patient.subj_trans"
   ]
  },
  {
   "cell_type": "code",
   "execution_count": null,
   "metadata": {},
   "outputs": [],
   "source": []
  }
 ],
 "metadata": {
  "interpreter": {
   "hash": "e007dfba714932e82f7fc3134ab02e107d39743376b1d49f6c3ef728ba02e1bc"
  },
  "kernelspec": {
   "display_name": "Python 3.9.7 64-bit ('py39': conda)",
   "language": "python",
   "name": "python3"
  },
  "language_info": {
   "codemirror_mode": {
    "name": "ipython",
    "version": 3
   },
   "file_extension": ".py",
   "mimetype": "text/x-python",
   "name": "python",
   "nbconvert_exporter": "python",
   "pygments_lexer": "ipython3",
   "version": "3.9.7"
  },
  "orig_nbformat": 4
 },
 "nbformat": 4,
 "nbformat_minor": 2
}
