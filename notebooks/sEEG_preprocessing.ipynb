{
 "cells": [
  {
   "cell_type": "markdown",
   "metadata": {},
   "source": [
    "# sEEG analysis \n",
    "Notebook that uses classes defined in `prfseeg`. These abstract out the patient and acquisition information used in the preprocessing. "
   ]
  },
  {
   "cell_type": "code",
   "execution_count": 1,
   "metadata": {},
   "outputs": [],
   "source": [
    "%load_ext autoreload\n",
    "%autoreload 2\n",
    "\n",
    "import os\n",
    "import seaborn as sns\n",
    "from prfseeg import *\n",
    "\n",
    "\n",
    "\n",
    "# ## Load data\n"
   ]
  },
  {
   "cell_type": "code",
   "execution_count": 8,
   "metadata": {},
   "outputs": [
    {
     "name": "stdout",
     "output_type": "stream",
     "text": [
      "Acquisition10kHz 1 for Patient \"sub-001\" at \"/scratch/2021/prf-seeg/data/bids\", derivatives at /scratch/2021/prf-seeg/data/derivatives on task pRF created.\n",
      "Acquisition10kHz 2 for Patient \"sub-001\" at \"/scratch/2021/prf-seeg/data/bids\", derivatives at /scratch/2021/prf-seeg/data/derivatives on task pRF created.\n",
      "Acquisition2kHz 3 for Patient \"sub-001\" at \"/scratch/2021/prf-seeg/data/bids\", derivatives at /scratch/2021/prf-seeg/data/derivatives on task pRF created.\n",
      "Acquisition2kHz 4 for Patient \"sub-001\" at \"/scratch/2021/prf-seeg/data/bids\", derivatives at /scratch/2021/prf-seeg/data/derivatives on task pRF created.\n",
      "Acquisition2kHz 5 for Patient \"sub-001\" at \"/scratch/2021/prf-seeg/data/bids\", derivatives at /scratch/2021/prf-seeg/data/derivatives on task pRF created.\n",
      "Acquisition2kHz 6 for Patient \"sub-001\" at \"/scratch/2021/prf-seeg/data/bids\", derivatives at /scratch/2021/prf-seeg/data/derivatives on task pRF created.\n"
     ]
    }
   ],
   "source": [
    "# laptop:\n",
    "# base_dir = '/Users/knapen/projects/prf-seeg/data'\n",
    "# server:\n",
    "base_dir = '/scratch/2021/prf-seeg/data'\n",
    "\n",
    "patient = Patient(subject='sub-001', \n",
    "                  raw_dir=os.path.join(base_dir, 'bids'), \n",
    "                  derivatives_dir=os.path.join(base_dir, 'derivatives'))\n",
    "patient.gather_acquisitions()                  "
   ]
  },
  {
   "cell_type": "code",
   "execution_count": 9,
   "metadata": {},
   "outputs": [
    {
     "name": "stdout",
     "output_type": "stream",
     "text": [
      "Automatic pdb calling has been turned OFF\n",
      "Extracting EDF parameters from /scratch/2021/prf-seeg/data/bids/sub-001/func/sub-001_run-01_task-pRF_acq-10kHz.edf...\n",
      "EDF file detected\n",
      "Setting channel info structure...\n",
      "Could not determine channel type of the following channels, they will be set as EEG:\n",
      "E, H'1, H'2, H'3, H'4, H'5, H'6, H'7, DC01, DC02, DC03, DC04, DC05, DC06, DC07, DC08, DC09, DC10, DC11, DC12, DC13, DC14, DC15, DC16, H'8, H'9, H'10, H'11, H'12, H'13, H'14, H'15, H'16, L'1, L'2, L'3, L'4, L'5, L'6, L'7, L'8, L'9, L'10, L'11, L'12, L'13, L'14, L'15, L'16, L'17, L'18, N'1, N'2, N'3, N'4, N'7, N'8, N'9, N'10, N'11, N'12, N'13, N'14, N'15, W'1, W'2, W'3, W'4, W'5, W'6, W'7, W'8, W'9, W'10, W'11, W'12, W'13, W'14, W'15, Y'11, Y'12\n",
      "Creating raw.info structure...\n",
      "Reading 0 ... 4790191  =      0.000 ...   479.019 secs...\n"
     ]
    },
    {
     "name": "stderr",
     "output_type": "stream",
     "text": [
      "/tank/tkn219/projects/prf-seeg/prfseeg/acquisition.py:244: RuntimeWarning: The unit for channel(s) DC01, DC02, DC03, DC04, DC05, DC06, DC07, DC08, DC09, DC10, DC11, DC12, DC13, DC14, DC15, DC16 has changed from V to NA.\n",
      "  self.raw.set_channel_types(ch_type_dict)\n"
     ]
    },
    {
     "name": "stdout",
     "output_type": "stream",
     "text": [
      "sEEG channel type selected for re-referencing\n",
      "Applying average reference.\n",
      "Applying a custom ('sEEG',) reference.\n",
      "Setting up band-stop filter\n",
      "\n",
      "FIR filter parameters\n",
      "---------------------\n",
      "Designing a one-pass, zero-phase, non-causal bandstop filter:\n",
      "- Windowed time-domain design (firwin) method\n",
      "- Hamming window with 0.0194 passband ripple and 53 dB stopband attenuation\n",
      "- Lower transition bandwidth: 0.50 Hz\n",
      "- Upper transition bandwidth: 0.50 Hz\n",
      "- Filter length: 66001 samples (6.600 sec)\n",
      "\n",
      "61 events found\n",
      "Event IDs: [1 2 3]\n",
      "34 events found\n",
      "Event IDs: [1 2 3]\n",
      "Writing /scratch/2021/prf-seeg/data/derivatives/prep/sub-001/func/sub-001_run-01_task-pRF_acq-10kHz_ieeg.fif.gz\n",
      "Closing /scratch/2021/prf-seeg/data/derivatives/prep/sub-001/func/sub-001_run-01_task-pRF_acq-10kHz_ieeg.fif.gz\n",
      "[done]\n"
     ]
    },
    {
     "name": "stderr",
     "output_type": "stream",
     "text": [
      "[Parallel(n_jobs=32)]: Using backend LokyBackend with 32 concurrent workers.\n",
      "[Parallel(n_jobs=32)]: Done  40 tasks      | elapsed:  5.2min\n",
      "[Parallel(n_jobs=32)]: Done  67 out of  81 | elapsed:  7.3min remaining:  1.5min\n",
      "[Parallel(n_jobs=32)]: Done  81 out of  81 | elapsed:  7.7min finished\n"
     ]
    },
    {
     "name": "stdout",
     "output_type": "stream",
     "text": [
      "Extracting EDF parameters from /scratch/2021/prf-seeg/data/bids/sub-001/func/sub-001_run-02_task-pRF_acq-10kHz.edf...\n",
      "EDF file detected\n",
      "Setting channel info structure...\n",
      "Could not determine channel type of the following channels, they will be set as EEG:\n",
      "E, H'1, H'2, H'3, H'4, H'5, H'6, H'7, DC01, DC02, DC03, DC04, DC05, DC06, DC07, DC08, DC09, DC10, DC11, DC12, DC13, DC14, DC15, DC16, H'8, H'9, H'10, H'11, H'12, H'13, H'14, H'15, H'16, L'1, L'2, L'3, L'4, L'5, L'6, L'7, L'8, L'9, L'10, L'11, L'12, L'13, L'14, L'15, L'16, L'17, L'18, N'1, N'2, N'3, N'4, N'7, N'8, N'9, N'10, N'11, N'12, N'13, N'14, N'15, W'1, W'2, W'3, W'4, W'5, W'6, W'7, W'8, W'9, W'10, W'11, W'12, W'13, W'14, W'15, Y'11, Y'12\n",
      "Creating raw.info structure...\n",
      "Reading 0 ... 5200095  =      0.000 ...   520.010 secs...\n"
     ]
    },
    {
     "name": "stderr",
     "output_type": "stream",
     "text": [
      "/tank/tkn219/projects/prf-seeg/prfseeg/acquisition.py:244: RuntimeWarning: The unit for channel(s) DC01, DC02, DC03, DC04, DC05, DC06, DC07, DC08, DC09, DC10, DC11, DC12, DC13, DC14, DC15, DC16 has changed from V to NA.\n",
      "  self.raw.set_channel_types(ch_type_dict)\n"
     ]
    },
    {
     "name": "stdout",
     "output_type": "stream",
     "text": [
      "sEEG channel type selected for re-referencing\n",
      "Applying average reference.\n",
      "Applying a custom ('sEEG',) reference.\n",
      "Setting up band-stop filter\n",
      "\n",
      "FIR filter parameters\n",
      "---------------------\n",
      "Designing a one-pass, zero-phase, non-causal bandstop filter:\n",
      "- Windowed time-domain design (firwin) method\n",
      "- Hamming window with 0.0194 passband ripple and 53 dB stopband attenuation\n",
      "- Lower transition bandwidth: 0.50 Hz\n",
      "- Upper transition bandwidth: 0.50 Hz\n",
      "- Filter length: 66001 samples (6.600 sec)\n",
      "\n",
      "62 events found\n",
      "Event IDs: [1 2 3]\n",
      "31 events found\n",
      "Event IDs: [3]\n",
      "81 events found\n",
      "Event IDs: [1 2 3]\n",
      "Writing /scratch/2021/prf-seeg/data/derivatives/prep/sub-001/func/sub-001_run-02_task-pRF_acq-10kHz_ieeg.fif.gz\n",
      "Closing /scratch/2021/prf-seeg/data/derivatives/prep/sub-001/func/sub-001_run-02_task-pRF_acq-10kHz_ieeg.fif.gz\n",
      "[done]\n"
     ]
    },
    {
     "name": "stderr",
     "output_type": "stream",
     "text": [
      "[Parallel(n_jobs=32)]: Using backend LokyBackend with 32 concurrent workers.\n",
      "[Parallel(n_jobs=32)]: Done  40 tasks      | elapsed:  6.5min\n",
      "[Parallel(n_jobs=32)]: Done  67 out of  81 | elapsed:  9.0min remaining:  1.9min\n",
      "[Parallel(n_jobs=32)]: Done  81 out of  81 | elapsed:  9.2min finished\n"
     ]
    },
    {
     "name": "stdout",
     "output_type": "stream",
     "text": [
      "Extracting EDF parameters from /scratch/2021/prf-seeg/data/bids/sub-001/func/sub-001_run-03_task-pRF_acq-2kHz.edf...\n",
      "EDF file detected\n",
      "Setting channel info structure...\n",
      "Could not determine channel type of the following channels, they will be set as EEG:\n",
      "A'1, A'2, A'3, A'4, A'5, A'6, A'7, A'8, A'9, A'10, A'13, A'14, F'1, F'2, F'3, F'4, F'5, F'6, F'7, E, F'8, F'9, A'11, A'12, F'10, F'11, F'12, F'13, F'14, F'15, H'1, H'2, H'3, H'4, H'5, H'6, H'7, DC01, DC02, DC03, DC04, DC05, DC06, DC07, DC08, DC09, DC10, DC11, DC12, DC13, DC14, DC15, DC16, H'8, H'9, H'10, H'11, H'12, H'13, H'14, H'15, H'16, L'1, L'2, L'3, L'4, L'5, L'6, L'7, L'8, L'9, L'10, L'11, L'12, L'13, L'14, L'15, L'16, L'17, L'18, M'1, M'2, M'3, M'4, M'5, M'6, M'7, M'8, M'9, M'10, M'11, M'12, M'13, M'14, M'15, M'16, M'17, M'18, N'1, N'2, N'3, N'4, N'7, N'8, N'9, N'10, N'11, N'12, N'13, N'14, N'15, O'1, O'2, O'3, O'4, O'5, O'6, O'7, O'8, O'9, O'10, O'11, O'12, O'13, O'14, P'1, P'2, P'3, P'4, P'5, P'6, P'7, P'8, P'9, P'10, P'11, P'12, P'13, P'14, P'15, P'16, P'17, P'18, Q'1, Q'2, Q'3, Q'4, Q'5, Q'6, Q'7, Q'8, Q'9, Q'10, Q'11, Q'12, Q'13, Q'14, Q'15, Q'16, R'1, R'2, R'3, R'4, R'5, R'6, R'7, R'8, R'9, R'10, R'11, R'12, R'13, R'14, R'15, R'16, R'17, R'18, S'1, S'2, S'3, S'4, S'7, S'8, S'9, S'10, S'11, S'12, S'13, S'14, S'15, U'1, U'2, U'3, U'4, U'5, U'6, U'7, U'8, U'9, U'10, U'11, U'12, U'13, U'14, U'15, U'16, U'17, U'18, W'1, W'2, W'3, W'4, W'5, W'6, W'7, W'8, W'9, W'10, W'11, W'12, W'13, W'14, W'15, X'1, X'2, X'3, X'4, X'5, X'6, X'7, X'8, X'9, X'10, X'11, X'12, X'13, X'14, X'15, X'16, X'17, X'18, Y'1, Y'2, Y'3, Y'4, Y'5, Y'6, Y'7, Y'8, Y'9, Y'10, Y'11, Y'12, Y'13, Y'14, Y'15, Y'16, Y'17, Y'18, Z'1, Z'2, Z'3, Z'4, Z'5, Z'6, Z'7, Z'8, Z'9, Z'10, Z'11, Z'12, ECG1, ECG2\n",
      "Creating raw.info structure...\n",
      "Reading 0 ... 1040031  =      0.000 ...   520.015 secs...\n"
     ]
    },
    {
     "name": "stderr",
     "output_type": "stream",
     "text": [
      "/tank/tkn219/projects/prf-seeg/prfseeg/acquisition.py:244: RuntimeWarning: The unit for channel(s) DC01, DC02, DC03, DC04, DC05, DC06, DC07, DC08, DC09, DC10, DC11, DC12, DC13, DC14, DC15, DC16 has changed from V to NA.\n",
      "  self.raw.set_channel_types(ch_type_dict)\n"
     ]
    },
    {
     "name": "stdout",
     "output_type": "stream",
     "text": [
      "sEEG channel type selected for re-referencing\n",
      "Applying average reference.\n",
      "Applying a custom ('sEEG',) reference.\n",
      "Setting up band-stop filter\n",
      "\n",
      "FIR filter parameters\n",
      "---------------------\n",
      "Designing a one-pass, zero-phase, non-causal bandstop filter:\n",
      "- Windowed time-domain design (firwin) method\n",
      "- Hamming window with 0.0194 passband ripple and 53 dB stopband attenuation\n",
      "- Lower transition bandwidth: 0.50 Hz\n",
      "- Upper transition bandwidth: 0.50 Hz\n",
      "- Filter length: 13201 samples (6.601 sec)\n",
      "\n",
      "62 events found\n",
      "Event IDs: [1 2 3]\n",
      "47 events found\n",
      "Event IDs: [1 2 3]\n",
      "Writing /scratch/2021/prf-seeg/data/derivatives/prep/sub-001/func/sub-001_run-03_task-pRF_acq-2kHz_ieeg.fif.gz\n",
      "Closing /scratch/2021/prf-seeg/data/derivatives/prep/sub-001/func/sub-001_run-03_task-pRF_acq-2kHz_ieeg.fif.gz\n",
      "[done]\n"
     ]
    },
    {
     "name": "stderr",
     "output_type": "stream",
     "text": [
      "[Parallel(n_jobs=32)]: Using backend LokyBackend with 32 concurrent workers.\n",
      "[Parallel(n_jobs=32)]: Done  40 tasks      | elapsed:  5.3min\n",
      "[Parallel(n_jobs=32)]: Done 130 tasks      | elapsed: 11.5min\n",
      "[Parallel(n_jobs=32)]: Done 271 out of 271 | elapsed: 20.9min finished\n"
     ]
    },
    {
     "name": "stdout",
     "output_type": "stream",
     "text": [
      "Extracting EDF parameters from /scratch/2021/prf-seeg/data/bids/sub-001/func/sub-001_run-04_task-pRF_acq-2kHz.edf...\n",
      "EDF file detected\n",
      "Setting channel info structure...\n",
      "Could not determine channel type of the following channels, they will be set as EEG:\n",
      "A'1, A'2, A'3, A'4, A'5, A'6, A'7, A'8, A'9, A'10, A'13, A'14, F'1, F'2, F'3, F'4, F'5, F'6, F'7, E, F'8, F'9, A'11, A'12, F'10, F'11, F'12, F'13, F'14, F'15, H'1, H'2, H'3, H'4, H'5, H'6, H'7, DC01, DC02, DC03, DC04, DC05, DC06, DC07, DC08, DC09, DC10, DC11, DC12, DC13, DC14, DC15, DC16, H'8, H'9, H'10, H'11, H'12, H'13, H'14, H'15, H'16, L'1, L'2, L'3, L'4, L'5, L'6, L'7, L'8, L'9, L'10, L'11, L'12, L'13, L'14, L'15, L'16, L'17, L'18, M'1, M'2, M'3, M'4, M'5, M'6, M'7, M'8, M'9, M'10, M'11, M'12, M'13, M'14, M'15, M'16, M'17, M'18, N'1, N'2, N'3, N'4, N'7, N'8, N'9, N'10, N'11, N'12, N'13, N'14, N'15, O'1, O'2, O'3, O'4, O'5, O'6, O'7, O'8, O'9, O'10, O'11, O'12, O'13, O'14, P'1, P'2, P'3, P'4, P'5, P'6, P'7, P'8, P'9, P'10, P'11, P'12, P'13, P'14, P'15, P'16, P'17, P'18, Q'1, Q'2, Q'3, Q'4, Q'5, Q'6, Q'7, Q'8, Q'9, Q'10, Q'11, Q'12, Q'13, Q'14, Q'15, Q'16, R'1, R'2, R'3, R'4, R'5, R'6, R'7, R'8, R'9, R'10, R'11, R'12, R'13, R'14, R'15, R'16, R'17, R'18, S'1, S'2, S'3, S'4, S'7, S'8, S'9, S'10, S'11, S'12, S'13, S'14, S'15, U'1, U'2, U'3, U'4, U'5, U'6, U'7, U'8, U'9, U'10, U'11, U'12, U'13, U'14, U'15, U'16, U'17, U'18, W'1, W'2, W'3, W'4, W'5, W'6, W'7, W'8, W'9, W'10, W'11, W'12, W'13, W'14, W'15, X'1, X'2, X'3, X'4, X'5, X'6, X'7, X'8, X'9, X'10, X'11, X'12, X'13, X'14, X'15, X'16, X'17, X'18, Y'1, Y'2, Y'3, Y'4, Y'5, Y'6, Y'7, Y'8, Y'9, Y'10, Y'11, Y'12, Y'13, Y'14, Y'15, Y'16, Y'17, Y'18, Z'1, Z'2, Z'3, Z'4, Z'5, Z'6, Z'7, Z'8, Z'9, Z'10, Z'11, Z'12, ECG1, ECG2\n",
      "Creating raw.info structure...\n",
      "Reading 0 ... 1035999  =      0.000 ...   518.000 secs...\n"
     ]
    },
    {
     "name": "stderr",
     "output_type": "stream",
     "text": [
      "/tank/tkn219/projects/prf-seeg/prfseeg/acquisition.py:244: RuntimeWarning: The unit for channel(s) DC01, DC02, DC03, DC04, DC05, DC06, DC07, DC08, DC09, DC10, DC11, DC12, DC13, DC14, DC15, DC16 has changed from V to NA.\n",
      "  self.raw.set_channel_types(ch_type_dict)\n"
     ]
    },
    {
     "name": "stdout",
     "output_type": "stream",
     "text": [
      "sEEG channel type selected for re-referencing\n",
      "Applying average reference.\n",
      "Applying a custom ('sEEG',) reference.\n",
      "Setting up band-stop filter\n",
      "\n",
      "FIR filter parameters\n",
      "---------------------\n",
      "Designing a one-pass, zero-phase, non-causal bandstop filter:\n",
      "- Windowed time-domain design (firwin) method\n",
      "- Hamming window with 0.0194 passband ripple and 53 dB stopband attenuation\n",
      "- Lower transition bandwidth: 0.50 Hz\n",
      "- Upper transition bandwidth: 0.50 Hz\n",
      "- Filter length: 13201 samples (6.601 sec)\n",
      "\n",
      "61 events found\n",
      "Event IDs: [1 2 3]\n",
      "48 events found\n",
      "Event IDs: [1 2 3]\n",
      "Writing /scratch/2021/prf-seeg/data/derivatives/prep/sub-001/func/sub-001_run-04_task-pRF_acq-2kHz_ieeg.fif.gz\n",
      "Closing /scratch/2021/prf-seeg/data/derivatives/prep/sub-001/func/sub-001_run-04_task-pRF_acq-2kHz_ieeg.fif.gz\n",
      "[done]\n"
     ]
    },
    {
     "name": "stderr",
     "output_type": "stream",
     "text": [
      "[Parallel(n_jobs=32)]: Using backend LokyBackend with 32 concurrent workers.\n",
      "[Parallel(n_jobs=32)]: Done  40 tasks      | elapsed:  4.7min\n",
      "[Parallel(n_jobs=32)]: Done 130 tasks      | elapsed: 10.9min\n",
      "[Parallel(n_jobs=32)]: Done 271 out of 271 | elapsed: 21.0min finished\n"
     ]
    },
    {
     "name": "stdout",
     "output_type": "stream",
     "text": [
      "Extracting EDF parameters from /scratch/2021/prf-seeg/data/bids/sub-001/func/sub-001_run-05_task-pRF_acq-2kHz.edf...\n",
      "EDF file detected\n",
      "Setting channel info structure...\n",
      "Could not determine channel type of the following channels, they will be set as EEG:\n",
      "A'1, A'2, A'3, A'4, A'5, A'6, A'7, A'8, A'9, A'10, A'13, A'14, F'1, F'2, F'3, F'4, F'5, F'6, F'7, E, F'8, F'9, A'11, A'12, F'10, F'11, F'12, F'13, F'14, F'15, H'1, H'2, H'3, H'4, H'5, H'6, H'7, DC01, DC02, DC03, DC04, DC05, DC06, DC07, DC08, DC09, DC10, DC11, DC12, DC13, DC14, DC15, DC16, H'8, H'9, H'10, H'11, H'12, H'13, H'14, H'15, H'16, L'1, L'2, L'3, L'4, L'5, L'6, L'7, L'8, L'9, L'10, L'11, L'12, L'13, L'14, L'15, L'16, L'17, L'18, M'1, M'2, M'3, M'4, M'5, M'6, M'7, M'8, M'9, M'10, M'11, M'12, M'13, M'14, M'15, M'16, M'17, M'18, N'1, N'2, N'3, N'4, N'7, N'8, N'9, N'10, N'11, N'12, N'13, N'14, N'15, O'1, O'2, O'3, O'4, O'5, O'6, O'7, O'8, O'9, O'10, O'11, O'12, O'13, O'14, P'1, P'2, P'3, P'4, P'5, P'6, P'7, P'8, P'9, P'10, P'11, P'12, P'13, P'14, P'15, P'16, P'17, P'18, Q'1, Q'2, Q'3, Q'4, Q'5, Q'6, Q'7, Q'8, Q'9, Q'10, Q'11, Q'12, Q'13, Q'14, Q'15, Q'16, R'1, R'2, R'3, R'4, R'5, R'6, R'7, R'8, R'9, R'10, R'11, R'12, R'13, R'14, R'15, R'16, R'17, R'18, S'1, S'2, S'3, S'4, S'7, S'8, S'9, S'10, S'11, S'12, S'13, S'14, S'15, U'1, U'2, U'3, U'4, U'5, U'6, U'7, U'8, U'9, U'10, U'11, U'12, U'13, U'14, U'15, U'16, U'17, U'18, W'1, W'2, W'3, W'4, W'5, W'6, W'7, W'8, W'9, W'10, W'11, W'12, W'13, W'14, W'15, X'1, X'2, X'3, X'4, X'5, X'6, X'7, X'8, X'9, X'10, X'11, X'12, X'13, X'14, X'15, X'16, X'17, X'18, Y'1, Y'2, Y'3, Y'4, Y'5, Y'6, Y'7, Y'8, Y'9, Y'10, Y'11, Y'12, Y'13, Y'14, Y'15, Y'16, Y'17, Y'18, Z'1, Z'2, Z'3, Z'4, Z'5, Z'6, Z'7, Z'8, Z'9, Z'10, Z'11, Z'12, ECG1, ECG2\n",
      "Creating raw.info structure...\n",
      "Reading 0 ... 1049999  =      0.000 ...   525.000 secs...\n"
     ]
    },
    {
     "name": "stderr",
     "output_type": "stream",
     "text": [
      "/tank/tkn219/projects/prf-seeg/prfseeg/acquisition.py:244: RuntimeWarning: The unit for channel(s) DC01, DC02, DC03, DC04, DC05, DC06, DC07, DC08, DC09, DC10, DC11, DC12, DC13, DC14, DC15, DC16 has changed from V to NA.\n",
      "  self.raw.set_channel_types(ch_type_dict)\n"
     ]
    },
    {
     "name": "stdout",
     "output_type": "stream",
     "text": [
      "sEEG channel type selected for re-referencing\n",
      "Applying average reference.\n",
      "Applying a custom ('sEEG',) reference.\n",
      "Setting up band-stop filter\n",
      "\n",
      "FIR filter parameters\n",
      "---------------------\n",
      "Designing a one-pass, zero-phase, non-causal bandstop filter:\n",
      "- Windowed time-domain design (firwin) method\n",
      "- Hamming window with 0.0194 passband ripple and 53 dB stopband attenuation\n",
      "- Lower transition bandwidth: 0.50 Hz\n",
      "- Upper transition bandwidth: 0.50 Hz\n",
      "- Filter length: 13201 samples (6.601 sec)\n",
      "\n",
      "61 events found\n",
      "Event IDs: [1 2 3]\n",
      "44 events found\n",
      "Event IDs: [1 2 3]\n",
      "Writing /scratch/2021/prf-seeg/data/derivatives/prep/sub-001/func/sub-001_run-05_task-pRF_acq-2kHz_ieeg.fif.gz\n",
      "Closing /scratch/2021/prf-seeg/data/derivatives/prep/sub-001/func/sub-001_run-05_task-pRF_acq-2kHz_ieeg.fif.gz\n",
      "[done]\n"
     ]
    },
    {
     "name": "stderr",
     "output_type": "stream",
     "text": [
      "[Parallel(n_jobs=32)]: Using backend LokyBackend with 32 concurrent workers.\n",
      "[Parallel(n_jobs=32)]: Done  40 tasks      | elapsed:  5.2min\n",
      "[Parallel(n_jobs=32)]: Done 130 tasks      | elapsed: 12.6min\n",
      "[Parallel(n_jobs=32)]: Done 271 out of 271 | elapsed: 22.8min finished\n"
     ]
    },
    {
     "name": "stdout",
     "output_type": "stream",
     "text": [
      "Extracting EDF parameters from /scratch/2021/prf-seeg/data/bids/sub-001/func/sub-001_run-06_task-pRF_acq-2kHz.edf...\n",
      "EDF file detected\n",
      "Setting channel info structure...\n",
      "Could not determine channel type of the following channels, they will be set as EEG:\n",
      "A'1, A'2, A'3, A'4, A'5, A'6, A'7, A'8, A'9, A'10, A'13, A'14, F'1, F'2, F'3, F'4, F'5, F'6, F'7, E, F'8, F'9, A'11, A'12, F'10, F'11, F'12, F'13, F'14, F'15, H'1, H'2, H'3, H'4, H'5, H'6, H'7, DC01, DC02, DC03, DC04, DC05, DC06, DC07, DC08, DC09, DC10, DC11, DC12, DC13, DC14, DC15, DC16, H'8, H'9, H'10, H'11, H'12, H'13, H'14, H'15, H'16, L'1, L'2, L'3, L'4, L'5, L'6, L'7, L'8, L'9, L'10, L'11, L'12, L'13, L'14, L'15, L'16, L'17, L'18, M'1, M'2, M'3, M'4, M'5, M'6, M'7, M'8, M'9, M'10, M'11, M'12, M'13, M'14, M'15, M'16, M'17, M'18, N'1, N'2, N'3, N'4, N'7, N'8, N'9, N'10, N'11, N'12, N'13, N'14, N'15, O'1, O'2, O'3, O'4, O'5, O'6, O'7, O'8, O'9, O'10, O'11, O'12, O'13, O'14, P'1, P'2, P'3, P'4, P'5, P'6, P'7, P'8, P'9, P'10, P'11, P'12, P'13, P'14, P'15, P'16, P'17, P'18, Q'1, Q'2, Q'3, Q'4, Q'5, Q'6, Q'7, Q'8, Q'9, Q'10, Q'11, Q'12, Q'13, Q'14, Q'15, Q'16, R'1, R'2, R'3, R'4, R'5, R'6, R'7, R'8, R'9, R'10, R'11, R'12, R'13, R'14, R'15, R'16, R'17, R'18, S'1, S'2, S'3, S'4, S'7, S'8, S'9, S'10, S'11, S'12, S'13, S'14, S'15, U'1, U'2, U'3, U'4, U'5, U'6, U'7, U'8, U'9, U'10, U'11, U'12, U'13, U'14, U'15, U'16, U'17, U'18, W'1, W'2, W'3, W'4, W'5, W'6, W'7, W'8, W'9, W'10, W'11, W'12, W'13, W'14, W'15, X'1, X'2, X'3, X'4, X'5, X'6, X'7, X'8, X'9, X'10, X'11, X'12, X'13, X'14, X'15, X'16, X'17, X'18, Y'1, Y'2, Y'3, Y'4, Y'5, Y'6, Y'7, Y'8, Y'9, Y'10, Y'11, Y'12, Y'13, Y'14, Y'15, Y'16, Y'17, Y'18, Z'1, Z'2, Z'3, Z'4, Z'5, Z'6, Z'7, Z'8, Z'9, Z'10, Z'11, Z'12, ECG1, ECG2\n",
      "Creating raw.info structure...\n",
      "Reading 0 ... 1000047  =      0.000 ...   500.024 secs...\n"
     ]
    },
    {
     "name": "stderr",
     "output_type": "stream",
     "text": [
      "/tank/tkn219/projects/prf-seeg/prfseeg/acquisition.py:244: RuntimeWarning: The unit for channel(s) DC01, DC02, DC03, DC04, DC05, DC06, DC07, DC08, DC09, DC10, DC11, DC12, DC13, DC14, DC15, DC16 has changed from V to NA.\n",
      "  self.raw.set_channel_types(ch_type_dict)\n"
     ]
    },
    {
     "name": "stdout",
     "output_type": "stream",
     "text": [
      "sEEG channel type selected for re-referencing\n",
      "Applying average reference.\n",
      "Applying a custom ('sEEG',) reference.\n",
      "Setting up band-stop filter\n",
      "\n",
      "FIR filter parameters\n",
      "---------------------\n",
      "Designing a one-pass, zero-phase, non-causal bandstop filter:\n",
      "- Windowed time-domain design (firwin) method\n",
      "- Hamming window with 0.0194 passband ripple and 53 dB stopband attenuation\n",
      "- Lower transition bandwidth: 0.50 Hz\n",
      "- Upper transition bandwidth: 0.50 Hz\n",
      "- Filter length: 13201 samples (6.601 sec)\n",
      "\n"
     ]
    },
    {
     "ename": "ValueError",
     "evalue": "cannot convert float NaN to integer",
     "output_type": "error",
     "traceback": [
      "\u001b[0;31m---------------------------------------------------------------------------\u001b[0m",
      "\u001b[0;31mValueError\u001b[0m                                Traceback (most recent call last)",
      "\u001b[0;32m/tmp/ipykernel_185608/3916473331.py\u001b[0m in \u001b[0;36m<module>\u001b[0;34m\u001b[0m\n\u001b[1;32m      1\u001b[0m \u001b[0mget_ipython\u001b[0m\u001b[0;34m(\u001b[0m\u001b[0;34m)\u001b[0m\u001b[0;34m.\u001b[0m\u001b[0mrun_line_magic\u001b[0m\u001b[0;34m(\u001b[0m\u001b[0;34m'pdb'\u001b[0m\u001b[0;34m,\u001b[0m \u001b[0;34m'off'\u001b[0m\u001b[0;34m)\u001b[0m\u001b[0;34m\u001b[0m\u001b[0;34m\u001b[0m\u001b[0m\n\u001b[0;32m----> 2\u001b[0;31m \u001b[0mpatient\u001b[0m\u001b[0;34m.\u001b[0m\u001b[0mpreprocess\u001b[0m\u001b[0;34m(\u001b[0m\u001b[0;34m)\u001b[0m\u001b[0;34m\u001b[0m\u001b[0;34m\u001b[0m\u001b[0m\n\u001b[0m",
      "\u001b[0;32m~/projects/prf-seeg/prfseeg/patient.py\u001b[0m in \u001b[0;36mpreprocess\u001b[0;34m(self)\u001b[0m\n\u001b[1;32m     96\u001b[0m     \u001b[0;32mdef\u001b[0m \u001b[0mpreprocess\u001b[0m\u001b[0;34m(\u001b[0m\u001b[0mself\u001b[0m\u001b[0;34m)\u001b[0m\u001b[0;34m:\u001b[0m\u001b[0;34m\u001b[0m\u001b[0;34m\u001b[0m\u001b[0m\n\u001b[1;32m     97\u001b[0m         \u001b[0;31m# 1. resample\u001b[0m\u001b[0;34m\u001b[0m\u001b[0;34m\u001b[0m\u001b[0m\n\u001b[0;32m---> 98\u001b[0;31m         \u001b[0;31m# 2. notch filter\u001b[0m\u001b[0;34m\u001b[0m\u001b[0;34m\u001b[0m\u001b[0m\n\u001b[0m\u001b[1;32m     99\u001b[0m         \u001b[0;31m# 3. t0 at 't' press\u001b[0m\u001b[0;34m\u001b[0m\u001b[0;34m\u001b[0m\u001b[0m\n\u001b[1;32m    100\u001b[0m         \u001b[0;31m# 4. tfr from t0 to end of last bar pass\u001b[0m\u001b[0;34m\u001b[0m\u001b[0;34m\u001b[0m\u001b[0m\n",
      "\u001b[0;32m~/projects/prf-seeg/prfseeg/acquisition.py\u001b[0m in \u001b[0;36mnotch_resample_cut\u001b[0;34m(self, resample_frequency, notch_filter_frequencies, raw_file_name, output_file_name)\u001b[0m\n\u001b[1;32m    201\u001b[0m             \u001b[0mlast_time\u001b[0m \u001b[0;34m=\u001b[0m \u001b[0mlast_sample\u001b[0m \u001b[0;34m/\u001b[0m \u001b[0mself\u001b[0m\u001b[0;34m.\u001b[0m\u001b[0mraw\u001b[0m\u001b[0;34m.\u001b[0m\u001b[0minfo\u001b[0m\u001b[0;34m[\u001b[0m\u001b[0;34m'sfreq'\u001b[0m\u001b[0;34m]\u001b[0m\u001b[0;34m\u001b[0m\u001b[0;34m\u001b[0m\u001b[0m\n\u001b[1;32m    202\u001b[0m \u001b[0;34m\u001b[0m\u001b[0m\n\u001b[0;32m--> 203\u001b[0;31m             self.raw.save(fname=output_file_name,\n\u001b[0m\u001b[1;32m    204\u001b[0m                           \u001b[0mtmin\u001b[0m\u001b[0;34m=\u001b[0m\u001b[0mfirst_time\u001b[0m\u001b[0;34m,\u001b[0m\u001b[0;34m\u001b[0m\u001b[0;34m\u001b[0m\u001b[0m\n\u001b[1;32m    205\u001b[0m                           \u001b[0mtmax\u001b[0m\u001b[0;34m=\u001b[0m\u001b[0mlast_time\u001b[0m\u001b[0;34m,\u001b[0m\u001b[0;34m\u001b[0m\u001b[0;34m\u001b[0m\u001b[0m\n",
      "\u001b[0;32m<decorator-gen-206>\u001b[0m in \u001b[0;36msave\u001b[0;34m(self, fname, picks, tmin, tmax, buffer_size_sec, drop_small_buffer, proj, fmt, overwrite, split_size, split_naming, verbose)\u001b[0m\n",
      "\u001b[0;32m~/software/anaconda3/envs/py39/lib/python3.9/site-packages/mne/io/base.py\u001b[0m in \u001b[0;36msave\u001b[0;34m(self, fname, picks, tmin, tmax, buffer_size_sec, drop_small_buffer, proj, fmt, overwrite, split_size, split_naming, verbose)\u001b[0m\n\u001b[1;32m   1467\u001b[0m \u001b[0;34m\u001b[0m\u001b[0m\n\u001b[1;32m   1468\u001b[0m         \u001b[0;31m#   Convert to samples\u001b[0m\u001b[0;34m\u001b[0m\u001b[0;34m\u001b[0m\u001b[0m\n\u001b[0;32m-> 1469\u001b[0;31m         \u001b[0mstart\u001b[0m\u001b[0;34m,\u001b[0m \u001b[0mstop\u001b[0m \u001b[0;34m=\u001b[0m \u001b[0mself\u001b[0m\u001b[0;34m.\u001b[0m\u001b[0m_tmin_tmax_to_start_stop\u001b[0m\u001b[0;34m(\u001b[0m\u001b[0mtmin\u001b[0m\u001b[0;34m,\u001b[0m \u001b[0mtmax\u001b[0m\u001b[0;34m)\u001b[0m\u001b[0;34m\u001b[0m\u001b[0;34m\u001b[0m\u001b[0m\n\u001b[0m\u001b[1;32m   1470\u001b[0m         \u001b[0mbuffer_size\u001b[0m \u001b[0;34m=\u001b[0m \u001b[0mself\u001b[0m\u001b[0;34m.\u001b[0m\u001b[0m_get_buffer_size\u001b[0m\u001b[0;34m(\u001b[0m\u001b[0mbuffer_size_sec\u001b[0m\u001b[0;34m)\u001b[0m\u001b[0;34m\u001b[0m\u001b[0;34m\u001b[0m\u001b[0m\n\u001b[1;32m   1471\u001b[0m \u001b[0;34m\u001b[0m\u001b[0m\n",
      "\u001b[0;32m~/software/anaconda3/envs/py39/lib/python3.9/site-packages/mne/io/base.py\u001b[0m in \u001b[0;36m_tmin_tmax_to_start_stop\u001b[0;34m(self, tmin, tmax)\u001b[0m\n\u001b[1;32m   1503\u001b[0m \u001b[0;34m\u001b[0m\u001b[0m\n\u001b[1;32m   1504\u001b[0m     \u001b[0;32mdef\u001b[0m \u001b[0m_tmin_tmax_to_start_stop\u001b[0m\u001b[0;34m(\u001b[0m\u001b[0mself\u001b[0m\u001b[0;34m,\u001b[0m \u001b[0mtmin\u001b[0m\u001b[0;34m,\u001b[0m \u001b[0mtmax\u001b[0m\u001b[0;34m)\u001b[0m\u001b[0;34m:\u001b[0m\u001b[0;34m\u001b[0m\u001b[0;34m\u001b[0m\u001b[0m\n\u001b[0;32m-> 1505\u001b[0;31m         \u001b[0mstart\u001b[0m \u001b[0;34m=\u001b[0m \u001b[0mint\u001b[0m\u001b[0;34m(\u001b[0m\u001b[0mnp\u001b[0m\u001b[0;34m.\u001b[0m\u001b[0mfloor\u001b[0m\u001b[0;34m(\u001b[0m\u001b[0mtmin\u001b[0m \u001b[0;34m*\u001b[0m \u001b[0mself\u001b[0m\u001b[0;34m.\u001b[0m\u001b[0minfo\u001b[0m\u001b[0;34m[\u001b[0m\u001b[0;34m'sfreq'\u001b[0m\u001b[0;34m]\u001b[0m\u001b[0;34m)\u001b[0m\u001b[0;34m)\u001b[0m\u001b[0;34m\u001b[0m\u001b[0;34m\u001b[0m\u001b[0m\n\u001b[0m\u001b[1;32m   1506\u001b[0m \u001b[0;34m\u001b[0m\u001b[0m\n\u001b[1;32m   1507\u001b[0m         \u001b[0;31m# \"stop\" is the first sample *not* to save, so we need +1's here\u001b[0m\u001b[0;34m\u001b[0m\u001b[0;34m\u001b[0m\u001b[0m\n",
      "\u001b[0;31mValueError\u001b[0m: cannot convert float NaN to integer"
     ]
    }
   ],
   "source": [
    "%pdb off\n",
    "patient.preprocess()"
   ]
  },
  {
   "cell_type": "code",
   "execution_count": null,
   "metadata": {},
   "outputs": [],
   "source": [
    "barpass_durations = np.array([a.experiment_settings['design']['blank_duration'] if x == -1 else a.experiment_settings['design']['bar_duration'] for x in a.experiment_settings['stimuli']['bar_directions']])\n",
    "bpd_samples = (barpass_durations*a.tfr_frequency).astype(int)"
   ]
  },
  {
   "cell_type": "code",
   "execution_count": null,
   "metadata": {},
   "outputs": [],
   "source": [
    "nr_trials = len(a.experiment_settings['stimuli']['bar_refresh_times']) * len(a.experiment_settings['stimuli']['bar_widths'])\n",
    "indices = np.r_[0, np.cumsum(np.tile(bpd_samples, nr_trials))]\n",
    "indices.shape"
   ]
  },
  {
   "cell_type": "code",
   "execution_count": null,
   "metadata": {},
   "outputs": [],
   "source": [
    "print()\n",
    "print(a.data_ch_names[:100])"
   ]
  },
  {
   "cell_type": "code",
   "execution_count": null,
   "metadata": {},
   "outputs": [],
   "source": [
    "which_els = np.array(['L' in dn for dn in  a.data_ch_names])\n",
    "n_els = which_els.sum()\n",
    "dur = bpd_samples.sum()\n",
    "\n",
    "el = 0\n",
    "\n",
    "f, ss = plt.subplots(n_els//3, 3, figsize=(36,24))\n",
    "for i in range(n_els//3):\n",
    "    for j in range(3):\n",
    "        d = np.array([a.tfr_data[el,:,t*dur:(t+1)*dur] for t in range(nr_trials)]).sum(0)\n",
    "        d /= d.std(1)[:,np.newaxis]\n",
    "        pdf = pd.DataFrame(d[::-1], columns=np.arange(0,dur*1/a.tfr_frequency, 1/a.tfr_frequency), index=a.freqs[::-1])\n",
    "        sns.heatmap(pdf, cmap='magma', ax=ss[i,j])\n",
    "        # ss[i,j].imshow(d[::-1], cmap='magma')\n",
    "        for x in np.cumsum(bpd_samples):\n",
    "            ss[i,j].axvline(x, c='w')\n",
    "        ss[i,j].set_title(a.data_ch_names[which_els][el])\n",
    "        el = el+1"
   ]
  },
  {
   "cell_type": "code",
   "execution_count": null,
   "metadata": {},
   "outputs": [],
   "source": [
    "el = 0\n",
    "\n",
    "from scipy.stats import pearsonr\n",
    "\n",
    "gamma_freqs = (a.freqs > 40) & (a.freqs < 90)\n",
    "mua_freqs = (a.freqs > 90)\n",
    "alpha_freqs = (a.freqs > 8) & (a.freqs < 13)\n",
    "\n",
    "corrs = []\n",
    "\n",
    "f, ss = plt.subplots(1,2, figsize=(16,6))\n",
    "\n",
    "# for f, freqs i \n",
    "for el in range(n_els):\n",
    "        da = np.array([a.tfr_data[el,:,t*dur:(t+1)*dur] for t in range(nr_trials)])\n",
    "        dagm = da[:,alpha_freqs].mean((0,1))\n",
    "        dags = da[:,alpha_freqs].mean(1)\n",
    "        ccs = np.corrcoef(dags)\n",
    "        ccs[np.eye(ccs.shape[0], dtype=bool)] = np.nan\n",
    "        # print(np.corrcoef(dags).mean(0))\n",
    "        corrs.append([pearsonr(dagm, dags[x])[0] for x in range(dags.shape[0])])\n",
    "        # corrs.append(np.nanmean(np.corrcoef(dags), 0))\n",
    "\n",
    "ss[0].imshow(np.array(corrs).T)\n",
    "ss[1].plot(np.array(corrs).mean(1), c='r')\n",
    "ss[1].plot(np.array(corrs).std(1), c='b')"
   ]
  },
  {
   "cell_type": "code",
   "execution_count": null,
   "metadata": {},
   "outputs": [],
   "source": [
    "el = 0\n",
    "\n",
    "from scipy.stats import pearsonr\n",
    "\n",
    "gamma_freqs = (a.freqs > 40) & (a.freqs < 90)\n",
    "mua_freqs = (a.freqs > 90)\n",
    "alpha_freqs = (a.freqs > 8) & (a.freqs < 13)\n",
    "\n",
    "corrs = []\n",
    "\n",
    "el = 0\n",
    "\n",
    "f, ss = plt.subplots(n_els, 1, figsize=(12,72))\n",
    "for i in range(n_els):\n",
    "#     for j in range(3):\n",
    "        da = np.array([a.tfr_data[el,:,t*dur:(t+1)*dur] for t in range(nr_trials)])\n",
    "#         da /= da.std(-1)\n",
    "\n",
    "        dags = np.array([da[:,f].mean(1) for f in (alpha_freqs, gamma_freqs, mua_freqs)])\n",
    "#         print(dags.shape)\n",
    "        for x,dag in enumerate(dags):\n",
    "            for d in dag:\n",
    "                ss[i].plot((x*7)+d/d.std(), c=['r','g','b'][x], alpha=0.3)\n",
    "#         pdf = pd.DataFrame(d[::-1], columns=np.arange(0,dur*1/a.tfr_frequency, 1/a.tfr_frequency), index=a.freqs[::-1])\n",
    "#         sns.heatmap(pdf, cmap='magma', ax=ss[i,j])\n",
    "        # ss[i,j].imshow(d[::-1], cmap='magma')\n",
    "        for x in np.cumsum(bpd_samples):\n",
    "            ss[i].axvline(x, c='k')\n",
    "        ss[i].set_title(a.data_ch_names[which_els][el])\n",
    "        el = el+1\n",
    "\n",
    "# ss[0].imshow(np.array(corrs).T)\n",
    "# ss[1].plot(np.array(corrs).mean(1), c='r')\n",
    "# ss[1].plot(np.array(corrs).std(1), c='b')"
   ]
  },
  {
   "cell_type": "code",
   "execution_count": null,
   "metadata": {},
   "outputs": [],
   "source": [
    "a.trial_data"
   ]
  },
  {
   "cell_type": "code",
   "execution_count": null,
   "metadata": {},
   "outputs": [],
   "source": [
    "a.identify_triggers()"
   ]
  },
  {
   "cell_type": "code",
   "execution_count": null,
   "metadata": {},
   "outputs": [],
   "source": [
    "a.bar_onsets_indx"
   ]
  },
  {
   "cell_type": "code",
   "execution_count": null,
   "metadata": {},
   "outputs": [],
   "source": [
    "a.raw_dc_data.shape"
   ]
  },
  {
   "cell_type": "code",
   "execution_count": null,
   "metadata": {},
   "outputs": [],
   "source": [
    "for i,dcd in enumerate(a.raw_dc_data):\n",
    "    plt.plot(dcd+3*i)"
   ]
  },
  {
   "cell_type": "code",
   "execution_count": null,
   "metadata": {},
   "outputs": [],
   "source": [
    "for i,dcd in enumerate(a.bin_dc_data):\n",
    "    plt.plot(dcd+3*i)"
   ]
  },
  {
   "cell_type": "code",
   "execution_count": null,
   "metadata": {},
   "outputs": [],
   "source": [
    "plt.plot(a.trigger_data)"
   ]
  },
  {
   "cell_type": "code",
   "execution_count": null,
   "metadata": {},
   "outputs": [],
   "source": [
    "a.sync_eeg_behavior()"
   ]
  },
  {
   "cell_type": "code",
   "execution_count": null,
   "metadata": {},
   "outputs": [],
   "source": [
    "a.bar_onsets_indx.shape, np.diff(a.blank_onsets_indx), a.blank_onsets_indx-a.run_onsets_indx"
   ]
  },
  {
   "cell_type": "code",
   "execution_count": null,
   "metadata": {},
   "outputs": [],
   "source": [
    "a.trial_data"
   ]
  },
  {
   "cell_type": "code",
   "execution_count": null,
   "metadata": {},
   "outputs": [],
   "source": [
    "np.diff(a.bar_onsets_indx), np.diff(a.blank_onsets_indx)"
   ]
  },
  {
   "cell_type": "code",
   "execution_count": null,
   "metadata": {},
   "outputs": [],
   "source": [
    "a.bar_onsets_indx"
   ]
  },
  {
   "cell_type": "code",
   "execution_count": null,
   "metadata": {},
   "outputs": [],
   "source": [
    "a.run_onsets_idx"
   ]
  },
  {
   "cell_type": "code",
   "execution_count": null,
   "metadata": {},
   "outputs": [],
   "source": [
    "plt.figure(figsize=(20,4))\n",
    "plt.plot(a.trigger_data[177500:177700])\n",
    "plt.plot(np.r_[False,np.diff((a.trigger_data[177500:177700]==5).astype(int))])"
   ]
  },
  {
   "cell_type": "code",
   "execution_count": null,
   "metadata": {},
   "outputs": [],
   "source": []
  }
 ],
 "metadata": {
  "interpreter": {
   "hash": "9dd1802bb333b88d517ce8f78fce5d5e0c513716ccd64a853ccc0c452871898f"
  },
  "kernelspec": {
   "display_name": "Python 3.9",
   "language": "python",
   "name": "py39"
  },
  "language_info": {
   "codemirror_mode": {
    "name": "ipython",
    "version": 3
   },
   "file_extension": ".py",
   "mimetype": "text/x-python",
   "name": "python",
   "nbconvert_exporter": "python",
   "pygments_lexer": "ipython3",
   "version": "3.9.7"
  }
 },
 "nbformat": 4,
 "nbformat_minor": 4
}
